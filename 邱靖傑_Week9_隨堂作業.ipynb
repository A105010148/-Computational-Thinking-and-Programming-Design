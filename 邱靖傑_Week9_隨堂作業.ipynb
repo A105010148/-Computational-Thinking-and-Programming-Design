{
  "nbformat": 4,
  "nbformat_minor": 0,
  "metadata": {
    "colab": {
      "name": "邱靖傑 Week9 隨堂作業.ipynb",
      "provenance": [],
      "authorship_tag": "ABX9TyPDj/yzE+9319ZbNvYTB909",
      "include_colab_link": true
    },
    "kernelspec": {
      "name": "python3",
      "display_name": "Python 3"
    },
    "language_info": {
      "name": "python"
    }
  },
  "cells": [
    {
      "cell_type": "markdown",
      "metadata": {
        "id": "view-in-github",
        "colab_type": "text"
      },
      "source": [
        "<a href=\"https://colab.research.google.com/github/A105010148/-Computational-Thinking-and-Programming-Design/blob/main/%E9%82%B1%E9%9D%96%E5%82%91_Week9_%E9%9A%A8%E5%A0%82%E4%BD%9C%E6%A5%AD.ipynb\" target=\"_parent\"><img src=\"https://colab.research.google.com/assets/colab-badge.svg\" alt=\"Open In Colab\"/></a>"
      ]
    },
    {
      "cell_type": "code",
      "metadata": {
        "colab": {
          "base_uri": "https://localhost:8080/"
        },
        "id": "ag7qpN_Cbi25",
        "outputId": "4bb4b2cf-9ae1-44a2-8318-f79ed032f00e"
      },
      "source": [
        "...: name = \"王柏智\"\n",
        "...: birthday = \"1996年10月29日\"\n",
        "...: birthplace = \"台灣\"\n",
        "...: occupation = \"職業籃球員\"\n",
        "...: print(\"台灣最強禁區球員檔案:\\n 鼎鼎大名:{}\\n 製造日期:{}\\n 製造地:{}\\n 職業:{}\".format(name, birthday, birthplace, occupation))"
      ],
      "execution_count": 16,
      "outputs": [
        {
          "output_type": "stream",
          "text": [
            "台灣最強禁區球員檔案:\n",
            " 鼎鼎大名:王柏智\n",
            " 製造日期:1996年10月29日\n",
            " 製造地:台灣\n",
            " 職業:職業籃球員\n"
          ],
          "name": "stdout"
        }
      ]
    },
    {
      "cell_type": "code",
      "metadata": {
        "colab": {
          "base_uri": "https://localhost:8080/"
        },
        "id": "KL5u947LocJ6",
        "outputId": "6950285b-3087-4d5b-fe0c-5b82ba851238"
      },
      "source": [
        "In [6]: # 1. 建立變數，輸入資料並儲存\n",
        "...: time = 123\n",
        "...:\n",
        "...: # 2. 方法（二）運算子\n",
        "...: hours2 = time // 60\n",
        "...: minutes2 = time % 60\n",
        "...:\n",
        "...: # 3. 顯示結果\n",
        "...: print(time, \"is equal to\", hours2, \"Hours and\", minutes2,\n",
        "\"Minutes\")"
      ],
      "execution_count": 8,
      "outputs": [
        {
          "output_type": "stream",
          "text": [
            "123 is equal to 2 Hours and 3 Minutes\n"
          ],
          "name": "stdout"
        }
      ]
    },
    {
      "cell_type": "code",
      "metadata": {
        "colab": {
          "base_uri": "https://localhost:8080/"
        },
        "id": "qUIgl2ZLocsy",
        "outputId": "39eb634b-0ef5-4b0f-de41-8ebb0006958a"
      },
      "source": [
        "seats = int(input('請輸入座號？'))\n",
        "groups = (seats - 1)//5 + 1\n",
        "print('組別為', groups)"
      ],
      "execution_count": 17,
      "outputs": [
        {
          "output_type": "stream",
          "text": [
            "請輸入座號？4\n",
            "組別為 1\n"
          ],
          "name": "stdout"
        }
      ]
    },
    {
      "cell_type": "markdown",
      "metadata": {
        "id": "RaKyJWj_xkSn"
      },
      "source": [
        "「哈囉，大家好。我叫Zyxo64，是一個聊天機器人。\n",
        "\n",
        "在嗜好與興趣方面，我很喜歡美食，也喜歡養動物。\n",
        "\n",
        "很高興有機會來到世新大學，請大家多多指教。\n",
        "\n",
        "嗨！妳好，請問大名？：Francis。\n",
        "\n",
        "Francis，很高興認識你。\n",
        "\n",
        "抱歉，請問一下今年是西元2021年，那是民國幾年呢？：110。\n",
        "\n",
        "對！沒錯，謝謝妳！\n",
        "\n",
        "Francis，猜猜看我今年幾歲？ ：18。\n",
        "\n",
        "哇！你好聰明，我今年的確18。\n",
        "\n",
        "再82年我就100歲了。\n",
        "\n",
        "那時候是西元 2103年，也就是民國192年囉！\n",
        "\n",
        "我喜歡吃巧克力，也喜歡嘗試各種新食物。\n",
        "\n",
        "你呢？你最喜歡的食物是什麼？:披薩。\n",
        "\n",
        "我也喜歡 披薩。\n",
        "\n",
        "你多久吃一次 披薩？：每天。\n",
        "\n",
        "真有趣。不知道這樣對健康好不好。\n",
        "\n",
        "我最喜歡的動物是長頸鹿。你呢？ ：烏龜。\n",
        "\n",
        "我不喜歡烏龜！\n",
        "\n",
        "不知道 烏龜 喜不喜歡吃 披薩？\n",
        "\n",
        "你今天的心情如何？ ：很開心。\n",
        "\n",
        "可以告訴我你 開心 的原因嗎？因為週末了！\n",
        "\n",
        "祝你週末愉快！\n",
        "\n",
        "我喜歡跟你聊天，現在有點累了，改天再聊吧！！\n",
        "\n",
        "再見 Francis！！！"
      ]
    },
    {
      "cell_type": "code",
      "metadata": {
        "colab": {
          "base_uri": "https://localhost:8080/",
          "height": 369
        },
        "id": "bPiQgBmWxpMP",
        "outputId": "c595c3cd-f82c-48dd-abe0-ae49d47287db"
      },
      "source": [
        "# 1.聊天機器人自我介紹\n",
        "print(\"哈囉，大家好。我叫Zyxo64，是一個聊天機器人。\")\n",
        "hobby = \"我很喜歡美食東西，也喜歡養動物。今天很高興有機會來到世新大學，請大家多多指教。\"\n",
        "print( hobby )\n",
        "\n",
        "# 2. 打招呼，取得對方名字\n",
        "name = input(\"嗨！妳好，請問大名？: \")\n",
        "print(\"你好\", name, \"很高興認識你\")\n",
        "\n",
        "# 3. 數學運算\n",
        "## 3-1 從使用者取得今年年份\n",
        "year = input(\"請問一下今年是西元2021年，那是民國幾年呢？ \")\n",
        "print(\"對！應該沒錯，謝謝妳！\")\n",
        "\n",
        "## 3-2 請使用者猜年齡\n",
        "myage = int(input(\"Francis，猜猜看我今年幾歲？ \"))\n",
        "print(\"哇！你好聰明，我今年的確\", myage)\n",
        "\n",
        "## 3-3 計算聊天機器人滿100歲的年份\n",
        "nyears = 100 - myage\n",
        "print(\"我再\", nyears, \"年就滿100歲了。\")\n",
        "\n",
        "print(\"到時候是西元\", int(year) + nyears + 1911, \"年\") # 將今年年份轉換為整數\n",
        "print(\"也就是民國\", int(year) + nyear, \"年\") # 民國幾年"
      ],
      "execution_count": 18,
      "outputs": [
        {
          "output_type": "stream",
          "text": [
            "哈囉，大家好。我叫Zyxo64，是一個聊天機器人。\n",
            "我很喜歡美食東西，也喜歡養動物。今天很高興有機會來到世新大學，請大家多多指教。\n",
            "嗨！妳好，請問大名？: 王柏智\n",
            "你好 王柏智 很高興認識你\n",
            "請問一下今年是西元2021年，那是民國幾年呢？ 110\n",
            "對！應該沒錯，謝謝妳！\n",
            "Francis，猜猜看我今年幾歲？ 18\n",
            "哇！你好聰明，我今年的確 18\n",
            "我再 82 年就滿100歲了。\n",
            "到時候是西元 2103 年\n"
          ],
          "name": "stdout"
        },
        {
          "output_type": "error",
          "ename": "NameError",
          "evalue": "ignored",
          "traceback": [
            "\u001b[0;31m---------------------------------------------------------------------------\u001b[0m",
            "\u001b[0;31mNameError\u001b[0m                                 Traceback (most recent call last)",
            "\u001b[0;32m<ipython-input-18-fa759bb229c4>\u001b[0m in \u001b[0;36m<module>\u001b[0;34m()\u001b[0m\n\u001b[1;32m     22\u001b[0m \u001b[0;34m\u001b[0m\u001b[0m\n\u001b[1;32m     23\u001b[0m \u001b[0mprint\u001b[0m\u001b[0;34m(\u001b[0m\u001b[0;34m\"到時候是西元\"\u001b[0m\u001b[0;34m,\u001b[0m \u001b[0mint\u001b[0m\u001b[0;34m(\u001b[0m\u001b[0myear\u001b[0m\u001b[0;34m)\u001b[0m \u001b[0;34m+\u001b[0m \u001b[0mnyears\u001b[0m \u001b[0;34m+\u001b[0m \u001b[0;36m1911\u001b[0m\u001b[0;34m,\u001b[0m \u001b[0;34m\"年\"\u001b[0m\u001b[0;34m)\u001b[0m \u001b[0;31m# 將今年年份轉換為整數\u001b[0m\u001b[0;34m\u001b[0m\u001b[0;34m\u001b[0m\u001b[0m\n\u001b[0;32m---> 24\u001b[0;31m \u001b[0mprint\u001b[0m\u001b[0;34m(\u001b[0m\u001b[0;34m\"也就是民國\"\u001b[0m\u001b[0;34m,\u001b[0m \u001b[0mint\u001b[0m\u001b[0;34m(\u001b[0m\u001b[0myear\u001b[0m\u001b[0;34m)\u001b[0m \u001b[0;34m+\u001b[0m \u001b[0mnyear\u001b[0m\u001b[0;34m,\u001b[0m \u001b[0;34m\"年\"\u001b[0m\u001b[0;34m)\u001b[0m \u001b[0;31m# 民國幾年\u001b[0m\u001b[0;34m\u001b[0m\u001b[0;34m\u001b[0m\u001b[0m\n\u001b[0m",
            "\u001b[0;31mNameError\u001b[0m: name 'nyear' is not defined"
          ]
        }
      ]
    },
    {
      "cell_type": "code",
      "metadata": {
        "id": "3EyFw704xqdO"
      },
      "source": [
        ""
      ],
      "execution_count": null,
      "outputs": []
    }
  ]
}