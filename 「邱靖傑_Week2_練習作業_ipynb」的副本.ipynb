{
  "nbformat": 4,
  "nbformat_minor": 0,
  "metadata": {
    "colab": {
      "name": "「邱靖傑-Week2-練習作業.ipynb」的副本",
      "provenance": [],
      "collapsed_sections": [],
      "authorship_tag": "ABX9TyP/PATgjZ6uoej0XxyKXOdl",
      "include_colab_link": true
    },
    "kernelspec": {
      "name": "python3",
      "display_name": "Python 3"
    }
  },
  "cells": [
    {
      "cell_type": "markdown",
      "metadata": {
        "id": "view-in-github",
        "colab_type": "text"
      },
      "source": [
        "<a href=\"https://colab.research.google.com/github/A105010148/-Computational-Thinking-and-Programming-Design/blob/main/%E3%80%8C%E9%82%B1%E9%9D%96%E5%82%91_Week2_%E7%B7%B4%E7%BF%92%E4%BD%9C%E6%A5%AD_ipynb%E3%80%8D%E7%9A%84%E5%89%AF%E6%9C%AC.ipynb\" target=\"_parent\"><img src=\"https://colab.research.google.com/assets/colab-badge.svg\" alt=\"Open In Colab\"/></a>"
      ]
    },
    {
      "cell_type": "code",
      "metadata": {
        "colab": {
          "base_uri": "https://localhost:8080/"
        },
        "id": "LDSnhJpdTsDr",
        "outputId": "defdf807-df26-429a-80ac-70ee1ca8a5f6"
      },
      "source": [
        "print(1+1)"
      ],
      "execution_count": null,
      "outputs": [
        {
          "output_type": "stream",
          "text": [
            "2\n"
          ],
          "name": "stdout"
        }
      ]
    },
    {
      "cell_type": "code",
      "metadata": {
        "id": "8qaMKHR9U9Zx",
        "colab": {
          "base_uri": "https://localhost:8080/"
        },
        "outputId": "fc5d80ef-40dc-4630-9a77-2c7ac627edab"
      },
      "source": [
        "print(\"Hello World\")"
      ],
      "execution_count": null,
      "outputs": [
        {
          "output_type": "stream",
          "text": [
            "Hello World\n"
          ],
          "name": "stdout"
        }
      ]
    },
    {
      "cell_type": "markdown",
      "metadata": {
        "id": "qRuUA4GTYdGm"
      },
      "source": [
        "練習:"
      ]
    },
    {
      "cell_type": "code",
      "metadata": {
        "id": "m8YsgUbYVBAu"
      },
      "source": [
        ""
      ],
      "execution_count": null,
      "outputs": []
    },
    {
      "cell_type": "markdown",
      "metadata": {
        "id": "hgyOXX3sZO7s"
      },
      "source": [
        "Google Colab操作步驟\r\n",
        "Step1: 前往 https://colab.research.google.com/，並⽤Gmail登錄。\r\n",
        "Step2: 點選 NEW NOTEBOOK\r\n",
        "修改檔案名稱（⽥弘華-Week2-練習作業.ipynb）\r\n",
        "Step3: 撰寫程式\r\n",
        "寫指令/寫文字 執⾏程式，Ctrl/Shift + Enter（點選三⾓形前進符號） 儲存檔案，Ctrl+S (菜單中的File->儲存(Github/Google Drive)\r\n"
      ]
    },
    {
      "cell_type": "code",
      "metadata": {
        "id": "hCsCdbdtZxHb"
      },
      "source": [
        ""
      ],
      "execution_count": null,
      "outputs": []
    }
  ]
}