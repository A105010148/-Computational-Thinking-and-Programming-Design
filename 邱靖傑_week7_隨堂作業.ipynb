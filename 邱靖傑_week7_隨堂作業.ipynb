{
  "nbformat": 4,
  "nbformat_minor": 0,
  "metadata": {
    "colab": {
      "name": "邱靖傑 week7 隨堂作業.ipynb",
      "provenance": [],
      "authorship_tag": "ABX9TyNwCvSv0Wlly8b2saFfrVWt",
      "include_colab_link": true
    },
    "kernelspec": {
      "name": "python3",
      "display_name": "Python 3"
    },
    "language_info": {
      "name": "python"
    }
  },
  "cells": [
    {
      "cell_type": "markdown",
      "metadata": {
        "id": "view-in-github",
        "colab_type": "text"
      },
      "source": [
        "<a href=\"https://colab.research.google.com/github/A105010148/-Computational-Thinking-and-Programming-Design/blob/main/%E9%82%B1%E9%9D%96%E5%82%91_week7_%E9%9A%A8%E5%A0%82%E4%BD%9C%E6%A5%AD.ipynb\" target=\"_parent\"><img src=\"https://colab.research.google.com/assets/colab-badge.svg\" alt=\"Open In Colab\"/></a>"
      ]
    },
    {
      "cell_type": "code",
      "metadata": {
        "colab": {
          "base_uri": "https://localhost:8080/"
        },
        "id": "50T1pEUHeNgo",
        "outputId": "05fe34ac-67ab-4f0f-f67a-251731557692"
      },
      "source": [
        "fruit = \"蘋果\"\n",
        "number = 2\n",
        "total = number + number\n",
        "print(f\"猴子摘了 {number} 顆 {fruit} 總共摘了 {total} 顆水果\")"
      ],
      "execution_count": 10,
      "outputs": [
        {
          "output_type": "stream",
          "text": [
            "猴子摘了 2 顆 蘋果 總共摘了 4 顆水果\n"
          ],
          "name": "stdout"
        }
      ]
    },
    {
      "cell_type": "code",
      "metadata": {
        "colab": {
          "base_uri": "https://localhost:8080/"
        },
        "id": "woaoEz1uicpv",
        "outputId": "8ec93678-7a55-4faf-af98-aca7479096be"
      },
      "source": [
        "name = input('請問貴姓大名')\n",
        "print('你好' ,  name )"
      ],
      "execution_count": 16,
      "outputs": [
        {
          "output_type": "stream",
          "text": [
            "請問貴姓大名Mario\n",
            "你好 Mario\n"
          ],
          "name": "stdout"
        }
      ]
    },
    {
      "cell_type": "code",
      "metadata": {
        "colab": {
          "base_uri": "https://localhost:8080/"
        },
        "id": "VokLZi9Hiff1",
        "outputId": "749ebeb0-b0f9-4bcd-90d2-064b536db06c"
      },
      "source": [
        "weight = eval(input ('請問體重?'))\n",
        "print(type(weight))\n",
        "print('體重為' , weight)"
      ],
      "execution_count": 19,
      "outputs": [
        {
          "output_type": "stream",
          "text": [
            "請問體重?87\n",
            "<class 'int'>\n",
            "體重為 87\n"
          ],
          "name": "stdout"
        }
      ]
    },
    {
      "cell_type": "code",
      "metadata": {
        "colab": {
          "base_uri": "https://localhost:8080/"
        },
        "id": "VfXmh3YPjya8",
        "outputId": "28711d9d-1ed2-4269-de1c-ec10382851c0"
      },
      "source": [
        "## 給我半徑、用公式計算圓面積與周長\n",
        "## Input\n",
        "radius = float(input('請輸入半徑?'))\n",
        "PI = 3.14159\n",
        "## Process\n",
        "circumference = 2 * PI * radius\n",
        "area = radius * radius * PI\n",
        "## Output\n",
        "print(f'圓周長為 {circumference} 面積為 {area} ')"
      ],
      "execution_count": 26,
      "outputs": [
        {
          "output_type": "stream",
          "text": [
            "請輸入半徑?50\n",
            "圓周長為 314.159 面積為 7853.974999999999 \n"
          ],
          "name": "stdout"
        }
      ]
    },
    {
      "cell_type": "code",
      "metadata": {
        "colab": {
          "base_uri": "https://localhost:8080/"
        },
        "id": "iiiz-OqalJG7",
        "outputId": "8a8cd389-6506-480e-f4c8-7795620f0e04"
      },
      "source": [
        "## Input\n",
        "PI = 3.14\n",
        "r1 = input(\"Enter radius 1: \")\n",
        "r2 = input(\"Enter radius 2: \")\n",
        "r1 = float(r1)\n",
        "r2 = float(r2)\n",
        "\n",
        "## Process\n",
        "area1 = PI * r1 * r1\n",
        "area2 = PI * r2 * r2\n",
        "area = area1 - area2\n",
        "\n",
        "## Output\n",
        "print(area)"
      ],
      "execution_count": 24,
      "outputs": [
        {
          "output_type": "stream",
          "text": [
            "Enter radius 1: 8\n",
            "Enter radius 2: 6\n",
            "87.92000000000002\n"
          ],
          "name": "stdout"
        }
      ]
    },
    {
      "cell_type": "markdown",
      "metadata": {
        "id": "_tiLHd9kqsyc"
      },
      "source": [
        "隨堂練習 : 英制轉公制\n",
        "**粗體文字**\n",
        "將⾝⾼由英制改成公制，例如5尺8吋換算成公制，1尺等於12吋，1吋等於2.54公\n",
        "分，轉換公式為(512+8)2.54等於172.72公分。\n",
        "～預覽結果\n",
        "輸入「5」尺，輸入「8」吋，計算結果顯⽰在螢幕如下。\n",
        "請輸入幾尺？5\n",
        "請輸入幾吋？8\n",
        "轉換成 172.72 公分"
      ]
    },
    {
      "cell_type": "code",
      "metadata": {
        "colab": {
          "base_uri": "https://localhost:8080/"
        },
        "id": "apLxOZtjmsTR",
        "outputId": "45f9c100-8a19-4037-dc56-2c70be1d298e"
      },
      "source": [
        "f = int(input('請輸入幾尺?'))\n",
        "i = int(input('請輸入幾吋?'))\n",
        "ans = (f*12+i) *2.54\n",
        "print('轉換成' , ans, '公分')"
      ],
      "execution_count": 25,
      "outputs": [
        {
          "output_type": "stream",
          "text": [
            "請輸入幾尺?8\n",
            "請輸入幾吋?5\n",
            "轉換成 256.54 公分\n"
          ],
          "name": "stdout"
        }
      ]
    },
    {
      "cell_type": "code",
      "metadata": {
        "id": "eIHriJCSoXg_"
      },
      "source": [
        ""
      ],
      "execution_count": null,
      "outputs": []
    }
  ]
}