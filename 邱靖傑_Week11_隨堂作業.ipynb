{
  "nbformat": 4,
  "nbformat_minor": 0,
  "metadata": {
    "colab": {
      "name": "邱靖傑 - Week11 - 隨堂作業.ipynb",
      "provenance": [],
      "authorship_tag": "ABX9TyMw67LhTivqO4ZeCsB19Jq+",
      "include_colab_link": true
    },
    "kernelspec": {
      "name": "python3",
      "display_name": "Python 3"
    },
    "language_info": {
      "name": "python"
    }
  },
  "cells": [
    {
      "cell_type": "markdown",
      "metadata": {
        "id": "view-in-github",
        "colab_type": "text"
      },
      "source": [
        "<a href=\"https://colab.research.google.com/github/A105010148/-Computational-Thinking-and-Programming-Design/blob/main/%E9%82%B1%E9%9D%96%E5%82%91_Week11_%E9%9A%A8%E5%A0%82%E4%BD%9C%E6%A5%AD.ipynb\" target=\"_parent\"><img src=\"https://colab.research.google.com/assets/colab-badge.svg\" alt=\"Open In Colab\"/></a>"
      ]
    },
    {
      "cell_type": "code",
      "metadata": {
        "colab": {
          "base_uri": "https://localhost:8080/"
        },
        "id": "cIKnsHDbhfhO",
        "outputId": "1334f876-0cc8-4d5d-bae4-05b74d984dbc"
      },
      "source": [
        "##身分證尾號是否為奇數\n",
        "\n",
        "ID = input(\"請輸入您的身分證字號的尾號: \")\n",
        "ANS = int(ID) % 2 == 1\n",
        "print(\"身分證尾數是否為奇數: \" , ANS)"
      ],
      "execution_count": 4,
      "outputs": [
        {
          "output_type": "stream",
          "text": [
            "請輸入您的身分證字號的尾號: 2\n",
            "身分證尾數是否為奇數:  False\n"
          ],
          "name": "stdout"
        }
      ]
    },
    {
      "cell_type": "code",
      "metadata": {
        "colab": {
          "base_uri": "https://localhost:8080/"
        },
        "id": "tpgMCHuPjb_P",
        "outputId": "dd49cd22-db16-40ed-d3a6-58aea76b7b52"
      },
      "source": [
        "##假設在一個男生女生都需要當兵的國家裡...\n",
        "\n",
        "HEIGHT = input(\"請輸入您的身高公尺數: \")\n",
        "WEIGHT = input(\"請輸入您的體重公斤數: \")\n",
        "HEIGHT = float (HEIGHT)\n",
        "WEIGHT = float (WEIGHT)\n",
        "BMI = WEIGHT/(HEIGHT*HEIGHT) \n",
        "ANS = 16.5 < BMI < 31.5\n",
        "print (\"您需不需要當兵: \" , ANS)"
      ],
      "execution_count": 23,
      "outputs": [
        {
          "output_type": "stream",
          "text": [
            "請輸入您的身高公尺數: 1.7\n",
            "請輸入您的體重公斤數: 55\n",
            "您需不需要當兵:  True\n"
          ],
          "name": "stdout"
        }
      ]
    },
    {
      "cell_type": "code",
      "metadata": {
        "colab": {
          "base_uri": "https://localhost:8080/"
        },
        "id": "xIi_OGTelsjO",
        "outputId": "26fc5279-0f3d-4f5d-df21-3e5e823a97b5"
      },
      "source": [
        "##「台灣歐尼爾」王柏智體型豐壯, 許多球迷質疑他是否不用當兵...\n",
        "\n",
        "POCHI_HEIGHT = input(\"請輸入王柏智的身高公尺數: \")\n",
        "POCHI_WEIGHT = input(\"請輸入王柏智的體重公斤數: \")\n",
        "POCHI_HEIGHT = float (POCHI_HEIGHT)\n",
        "POCHI_WEIGHT = float (POCHI_WEIGHT)\n",
        "BMI = POCHI_WEIGHT/(POCHI_HEIGHT * POCHI_HEIGHT)\n",
        "ANS = 16.5 < BMI < 31.5\n",
        "print (BMI , \"王柏智還是得當兵嗎? \" , ANS)"
      ],
      "execution_count": 24,
      "outputs": [
        {
          "output_type": "stream",
          "text": [
            "請輸入王柏智的身高公尺數: 1.9\n",
            "請輸入王柏智的體重公斤數: 130\n",
            "36.011080332409975 王柏智還是得當兵嗎:  False\n"
          ],
          "name": "stdout"
        }
      ]
    },
    {
      "cell_type": "code",
      "metadata": {
        "id": "G9UAzDOLoJ5u",
        "colab": {
          "base_uri": "https://localhost:8080/"
        },
        "outputId": "4d1bf722-c613-4af9-be01-baa2438fbdb0"
      },
      "source": [
        "##線上兵役體檢\n",
        "print(\"哈囉! 我是台北市政府兵役局的小幫手白兵兵。 歡迎接受我們線上的模擬兵役體檢～\")\n",
        "print(\"本次的測驗分別有三關, 幫助您了解自己符不符合國軍的體位標準喔。\")\n",
        "START_OR_NOT = input(\"如果沒有問題的話, 我們就開始囉: (YES!/YES?) \")\n",
        "print(START_OR_NOT , \"好的～ 那請您耐心回答以下的問題。\")"
      ],
      "execution_count": 40,
      "outputs": [
        {
          "output_type": "stream",
          "text": [
            "哈囉! 我是台北市政府兵役局的小幫手白兵兵。 歡迎接受我們線上的模擬兵役體檢～\n",
            "本次的測驗分別有三關, 幫助您了解自己符不符合國軍的體位標準喔。\n",
            "如果沒有問題的話, 我們就開始囉: (YES!/YES?) YES!\n",
            "YES! 好的～ 那請您耐心回答以下的問題。\n"
          ],
          "name": "stdout"
        }
      ]
    },
    {
      "cell_type": "code",
      "metadata": {
        "colab": {
          "base_uri": "https://localhost:8080/"
        },
        "id": "8vUux4T40OJs",
        "outputId": "8703afcb-92c5-4260-ec8a-7bb55c074e27"
      },
      "source": [
        "##第一關:BMI\n",
        "print(\"第一關是BMI測驗。 請誠實輸入您的身高以及體重, 方便白兵兵幫您計算喔～\")\n",
        "HEIGHT = input(\"請輸入您身高的公尺數: \")\n",
        "WEIGHT = input(\"請輸入您體重的公斤數: \")\n",
        "HEIGHT = float (HEIGHT)\n",
        "WEIGHT = float (WEIGHT)\n",
        "BMI = WEIGHT/(HEIGHT * HEIGHT)\n",
        "ANS = 16.5 < BMI < 31.5\n",
        "print (\"白兵兵很快幫您計算好囉! 您在BMI這關是否在正常體位之內: \", ANS)"
      ],
      "execution_count": 32,
      "outputs": [
        {
          "output_type": "stream",
          "text": [
            "第一關是BMI測驗。 請誠實輸入您的身高以及體重, 方便白兵兵幫您計算喔～\n",
            "請輸入您身高的公尺數: 1.7\n",
            "請輸入您體重的公斤數: 50\n",
            "白兵兵很快幫您計算好囉! 您在BMI這關是否在正常體位之內:  True\n"
          ],
          "name": "stdout"
        }
      ]
    },
    {
      "cell_type": "code",
      "metadata": {
        "colab": {
          "base_uri": "https://localhost:8080/"
        },
        "id": "UPH3x2z2z6Ds",
        "outputId": "3c85d0ed-5c79-4dd1-c45b-ebd3e615e050"
      },
      "source": [
        "##第二關:視力測驗\n",
        "print(\"接著第二關是視力測驗。 請誠實告訴我您的視力、近視度數及散光度數唷!\")\n",
        "LEFT_EYESIGHT = input(\"請輸入您左眼矯正後的視力: \")\n",
        "RIGHT_EYESIGHT = input(\"請輸入您右眼矯正後的視力: \")\n",
        "LEFT_EYE_SHORT = input(\"請輸入您左眼的近視度數: \")\n",
        "RIGHT_EYE_SHORT = input(\"請輸入您右眼的近視度數: \")\n",
        "LEFT_EYESIGHT = eval(LEFT_EYESIGHT)\n",
        "RIGHT_EYESIGHT = eval(RIGHT_EYESIGHT)\n",
        "LEFT_EYE_SHORT = eval(LEFT_EYE_SHORT)\n",
        "RIGHT_EYE_SHORT = eval(RIGHT_EYE_SHORT)\n",
        "ANS1 = 0.1 < LEFT_EYESIGHT\n",
        "ANS2 = 0.1 < RIGHT_EYESIGHT\n",
        "print (\"熱騰騰的結果出來了! 您在視力部分是不是正常的體位呢: \",ANS1)"
      ],
      "execution_count": 39,
      "outputs": [
        {
          "output_type": "stream",
          "text": [
            "接著第二關是視力測驗。 請誠實告訴我您的視力、近視度數及散光度數唷!\n",
            "請輸入您左眼矯正後的視力: 1.0\n",
            "請輸入您右眼矯正後的視力: 1.2\n",
            "請輸入您左眼的近視度數: 0\n",
            "請輸入您右眼的近視度數: 0\n",
            "熱騰騰的結果出來了! 您在視力部分是不是正常的體位呢:  True\n"
          ],
          "name": "stdout"
        }
      ]
    }
  ]
}