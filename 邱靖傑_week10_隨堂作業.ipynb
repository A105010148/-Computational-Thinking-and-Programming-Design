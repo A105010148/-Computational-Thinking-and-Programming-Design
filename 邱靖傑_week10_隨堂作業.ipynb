{
  "nbformat": 4,
  "nbformat_minor": 0,
  "metadata": {
    "colab": {
      "name": "邱靖傑-week10-隨堂作業.ipynb",
      "provenance": [],
      "authorship_tag": "ABX9TyPGpcBI2/1u4z04EWkYDx1/",
      "include_colab_link": true
    },
    "kernelspec": {
      "name": "python3",
      "display_name": "Python 3"
    },
    "language_info": {
      "name": "python"
    }
  },
  "cells": [
    {
      "cell_type": "markdown",
      "metadata": {
        "id": "view-in-github",
        "colab_type": "text"
      },
      "source": [
        "<a href=\"https://colab.research.google.com/github/A105010148/-Computational-Thinking-and-Programming-Design/blob/main/%E9%82%B1%E9%9D%96%E5%82%91_week10_%E9%9A%A8%E5%A0%82%E4%BD%9C%E6%A5%AD.ipynb\" target=\"_parent\"><img src=\"https://colab.research.google.com/assets/colab-badge.svg\" alt=\"Open In Colab\"/></a>"
      ]
    },
    {
      "cell_type": "code",
      "metadata": {
        "colab": {
          "base_uri": "https://localhost:8080/"
        },
        "id": "LksKVxISfrIS",
        "outputId": "aa1c0014-ff03-4e15-e569-a363d705e559"
      },
      "source": [
        "# 1.聊天機器人自我介紹\n",
        "print(\"哈囉，大家好。我叫Zyxo64，是一個聊天機器人。\")\n",
        "hobby = \"我很喜歡美食東西，也喜歡養動物。今天很高興有機會來到世新大學，請大家多多指教。\"\n",
        "print( hobby )\n",
        "\n",
        "# 2. 打招呼，取得對方名字\n",
        "name = input(\"嗨！妳好，請問大名？: \")\n",
        "print(\"你好\", name, \"很高興認識你\")\n",
        "\n",
        "# 3. 數學運算\n",
        "## 3-1 從使用者取得今年年份\n",
        "year = input(\"請問一下今年是西元2021年，那是民國幾年呢？ \")\n",
        "print(\"對！應該沒錯，謝謝妳！\")\n",
        "\n",
        "## 3-2 請使用者猜年齡\n",
        "age = int(input(\"Francis，猜猜看我今年幾歲？ \"))\n",
        "print(\"哇！你好聰明，我今年的確\", myage)\n",
        "\n",
        "## 3-3 計算聊天機器人滿100歲的年份\n",
        "nyears = 100 - int(age)\n",
        "print(f\"再{nyears}年我就100歲了。 \")\n",
        "print(f\"到時候是西元 {int(year) + nyears + 1911}年\")"
      ],
      "execution_count": 6,
      "outputs": [
        {
          "output_type": "stream",
          "text": [
            "哈囉，大家好。我叫Zyxo64，是一個聊天機器人。\n",
            "我很喜歡美食東西，也喜歡養動物。今天很高興有機會來到世新大學，請大家多多指教。\n",
            "嗨！妳好，請問大名？: 新少俠王柏智\n",
            "你好 新少俠王柏智 很高興認識你\n",
            "請問一下今年是西元2021年，那是民國幾年呢？ 110\n",
            "對！應該沒錯，謝謝妳！\n",
            "Francis，猜猜看我今年幾歲？ 18\n",
            "哇！你好聰明，我今年的確 18\n",
            "再82年我就100歲了。 \n",
            "到時候是西元 2103年\n"
          ],
          "name": "stdout"
        }
      ]
    },
    {
      "cell_type": "code",
      "metadata": {
        "colab": {
          "base_uri": "https://localhost:8080/"
        },
        "id": "6YumqBGjxAfi",
        "outputId": "263d444f-b42f-4ee8-a35a-2985dbcd1604"
      },
      "source": [
        "...: print(\"我喜歡拉麵， 也喜歡嘗試各種新食物。\")\n",
        "...: food = input(\"你最喜歡吃的食物是甚麼?\")\n",
        "...: print(\"我也喜歡\", food)\n",
        "...: question = \"你多久吃一次\" + food + \"？：　\"\n",
        "...: howoften = input(question)\n",
        "...: print(\"真有趣， 不知道這樣對健康好不好。\")"
      ],
      "execution_count": 15,
      "outputs": [
        {
          "output_type": "stream",
          "text": [
            "我喜歡拉麵， 也喜歡嘗試各種新食物。\n",
            "你最喜歡吃的食物是甚麼?草莓蛋糕\n",
            "我也喜歡 草莓蛋糕\n",
            "你多久吃一次草莓蛋糕？：　每天\n",
            "真有趣， 不知道這樣對健康好不好。\n"
          ],
          "name": "stdout"
        }
      ]
    },
    {
      "cell_type": "code",
      "metadata": {
        "colab": {
          "base_uri": "https://localhost:8080/"
        },
        "id": "16ZkqOR3yRX5",
        "outputId": "7754ce80-86d2-4a2d-ebaf-089884c856e9"
      },
      "source": [
        "In [6]: ## 4 興趣\n",
        "...: ## 4-1 食物話題\n",
        "...: print(\"我喜歡拉麵，也喜歡嘗試各種新食物。\")\n",
        "...: food = input(\"你呢。你最喜歡的食物是什麼？： \")\n",
        "...: print(\"我也喜歡\", food)\n",
        "...: question = \"你多久吃一次\" + food + \"?: \"\n",
        "...: howoften = input(question)\n",
        "...: print(\"真有趣。不知道這樣對健康好不好！\")\n",
        "\n",
        "...: animal = input(\"我最喜歡的動物是老鷹。 你呢?\")\n",
        "...: print(\"我不喜歡\", animal)\n",
        "...: print(\"不知道\", animal, \"喜不喜歡吃\", food)"
      ],
      "execution_count": 17,
      "outputs": [
        {
          "output_type": "stream",
          "text": [
            "我喜歡拉麵，也喜歡嘗試各種新食物。\n",
            "你呢。你最喜歡的食物是什麼？： 咖哩飯\n",
            "我也喜歡 咖哩飯\n",
            "你多久吃一次咖哩飯?: 一個月一次\n",
            "真有趣。不知道這樣對健康好不好！\n",
            "我最喜歡的動物是老鷹。 你呢?羊\n",
            "我不喜歡 羊\n",
            "不知道 羊 喜不喜歡吃 咖哩飯\n"
          ],
          "name": "stdout"
        }
      ]
    }
  ]
}