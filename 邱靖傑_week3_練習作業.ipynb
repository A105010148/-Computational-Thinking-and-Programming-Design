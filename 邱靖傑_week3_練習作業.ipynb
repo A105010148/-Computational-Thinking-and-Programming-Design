{
  "nbformat": 4,
  "nbformat_minor": 0,
  "metadata": {
    "colab": {
      "name": "邱靖傑-week3-練習作業.ipynb",
      "provenance": [],
      "authorship_tag": "ABX9TyMeyOIawz0DRDm9D3Yg7GGF",
      "include_colab_link": true
    },
    "kernelspec": {
      "name": "python3",
      "display_name": "Python 3"
    }
  },
  "cells": [
    {
      "cell_type": "markdown",
      "metadata": {
        "id": "view-in-github",
        "colab_type": "text"
      },
      "source": [
        "<a href=\"https://colab.research.google.com/github/A105010148/-Computational-Thinking-and-Programming-Design/blob/main/%E9%82%B1%E9%9D%96%E5%82%91_week3_%E7%B7%B4%E7%BF%92%E4%BD%9C%E6%A5%AD.ipynb\" target=\"_parent\"><img src=\"https://colab.research.google.com/assets/colab-badge.svg\" alt=\"Open In Colab\"/></a>"
      ]
    },
    {
      "cell_type": "markdown",
      "metadata": {
        "id": "EyGxCV6ENKTW"
      },
      "source": [
        "#隨堂練習"
      ]
    },
    {
      "cell_type": "markdown",
      "metadata": {
        "id": "e7fu1hoUNVft"
      },
      "source": [
        "輸入 (input)\r\n",
        "輸出 (output)\r\n",
        "處理 (process)\r\n",
        "明確性 (definiteness)\r\n",
        "有效性 (effectiveness)\r\n",
        "有限性 (finiteness)"
      ]
    },
    {
      "cell_type": "markdown",
      "metadata": {
        "id": "08XYek2lfBad"
      },
      "source": [
        "⽤電腦解決問題的四個階段\r\n",
        "階段⼀：Analysis - 運算思維。\r\n",
        "階段⼆ : Design - 程式設計。\r\n",
        "階段三：Coding - 撰寫程式。\r\n",
        "階段四：Testing - 測試與除錯。"
      ]
    },
    {
      "cell_type": "markdown",
      "metadata": {
        "id": "sc2p2zYENVtX"
      },
      "source": [
        "#課後作業"
      ]
    },
    {
      "cell_type": "code",
      "metadata": {
        "id": "jRX1ybvtNbbU"
      },
      "source": [
        "課後練習則為從一則新聞報導，提出你對新聞系（OO系）學生為什麼要學「運算思維與程式設計」的見解。（告訴我新聞連結，以及你的觀點即可。）"
      ],
      "execution_count": null,
      "outputs": []
    },
    {
      "cell_type": "markdown",
      "metadata": {
        "id": "3wOz1OSwOpss"
      },
      "source": [
        "https://udn.com/news/story/6928/5309091\r\n",
        "\r\n",
        "這篇新聞利用大數據來分析前段國立大學哪些科系轉入比例較高，相對來說，如經濟、電機及資工等較多人轉入；而政治、社工系等則是轉出比例較高。\r\n",
        "在我來看，大數據現在已經普遍地在生活當中被應用，新聞產業也不例外，而我作為新聞系的學生，在學習了程式設計以及大數據的應用後，能夠在進入社會之前將自己準備的更好。\r\n",
        "\r\n",
        "別的不說，新聞內文中提及資工系的夯度就是最好的證明。"
      ]
    }
  ]
}