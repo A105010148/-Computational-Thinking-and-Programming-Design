{
  "nbformat": 4,
  "nbformat_minor": 0,
  "metadata": {
    "colab": {
      "name": "邱靖傑 - Week13 - 隨堂練習",
      "provenance": [],
      "authorship_tag": "ABX9TyNI3K+07NRe9BSwY9Yd0uDr",
      "include_colab_link": true
    },
    "kernelspec": {
      "name": "python3",
      "display_name": "Python 3"
    },
    "language_info": {
      "name": "python"
    }
  },
  "cells": [
    {
      "cell_type": "markdown",
      "metadata": {
        "id": "view-in-github",
        "colab_type": "text"
      },
      "source": [
        "<a href=\"https://colab.research.google.com/github/A105010148/-Computational-Thinking-and-Programming-Design/blob/main/%E9%82%B1%E9%9D%96%E5%82%91_Week13_%E9%9A%A8%E5%A0%82%E7%B7%B4%E7%BF%92.ipynb\" target=\"_parent\"><img src=\"https://colab.research.google.com/assets/colab-badge.svg\" alt=\"Open In Colab\"/></a>"
      ]
    },
    {
      "cell_type": "code",
      "metadata": {
        "colab": {
          "base_uri": "https://localhost:8080/"
        },
        "id": "5dUaZFZLq8g2",
        "outputId": "9d2658e8-3768-49d8-a8bc-00fb65bc6f34"
      },
      "source": [
        "cher_dress_color = \"pink\"\n",
        "dionne_dress_color = \"purple\"\n",
        "print (f'Both girls have different dress colors? {cher_dress_color!= \"purple\" and dionne_dress_color!=\"pink\"}')"
      ],
      "execution_count": null,
      "outputs": [
        {
          "output_type": "stream",
          "text": [
            "Both girls have different dress colors? True\n"
          ],
          "name": "stdout"
        }
      ]
    },
    {
      "cell_type": "code",
      "metadata": {
        "colab": {
          "base_uri": "https://localhost:8080/"
        },
        "id": "PjYtuV4mwvK9",
        "outputId": "0b2e9b50-c346-4855-c9ab-c98d586a7a3a"
      },
      "source": [
        "num = int (input(\"Enter a number: \"))\n",
        "\n",
        "if num < 6:\n",
        "  print(\"number is less than 6.\")\n",
        "if num < 10:\n",
        "  print(\"number is less than 10.\")\n",
        "if num > 3:\n",
        "  print(\"number is greater than 3.\")\n",
        "print(\"Finished.\")"
      ],
      "execution_count": null,
      "outputs": [
        {
          "output_type": "stream",
          "text": [
            "Enter a number: 10\n",
            "number is greater than 3.\n",
            "Finished.\n"
          ],
          "name": "stdout"
        }
      ]
    },
    {
      "cell_type": "code",
      "metadata": {
        "colab": {
          "base_uri": "https://localhost:8080/"
        },
        "id": "Xf3K1aSrygv0",
        "outputId": "c04b63e7-ccdc-4ea5-90a6-b3ed755756f5"
      },
      "source": [
        "w = float(input('請輸入物品重量？'))\n",
        "\n",
        "if w <= 5:\n",
        "  print('所需郵資為50元')\n",
        "if w <= 10:\n",
        "  print('所需郵資為70元')\n",
        "if w <= 15:\n",
        "  print('所需郵資為90元')\n",
        "elif w <= 20:\n",
        "  print('所需郵資為110元')\n",
        "else:\n",
        "  print('超過20公斤無法運送')"
      ],
      "execution_count": null,
      "outputs": [
        {
          "output_type": "stream",
          "text": [
            "請輸入物品重量？18\n",
            "所需郵資為110元\n"
          ],
          "name": "stdout"
        }
      ]
    },
    {
      "cell_type": "code",
      "metadata": {
        "colab": {
          "base_uri": "https://localhost:8080/"
        },
        "id": "FVVbzYRx1YAv",
        "outputId": "d87c2221-d0d1-416c-ff36-01bd95ced187"
      },
      "source": [
        "weight = input(\"Give me your package's weight: \")\n",
        "weight = float (weight)\n",
        "if weight <= 5:\n",
        "  print(\"Pay 50 dollars plz\")\n",
        "elif weight <= 10:\n",
        "  print(\"Pay 70 dollars plz\")\n",
        "elif weight <= 15:\n",
        "  print(\"Pay 90 dollars plz\")\n",
        "elif weight <= 20:\n",
        "  print(\"Pay 110 dollars instead plz\")\n",
        "else:\n",
        "  print(\"Sorry, we cannot help you\")"
      ],
      "execution_count": null,
      "outputs": [
        {
          "output_type": "stream",
          "text": [
            "Give me your package's weight: 8\n",
            "Pay 70 dollars plz\n"
          ],
          "name": "stdout"
        }
      ]
    },
    {
      "cell_type": "code",
      "metadata": {
        "colab": {
          "base_uri": "https://localhost:8080/"
        },
        "id": "ApwZosy53Kwz",
        "outputId": "c31fe54b-e763-4d1f-a12f-8a926b664fe6"
      },
      "source": [
        "height = float (input(\"Plz gimme your height: \"))\n",
        "weight = float (input(\"Plz gimme your weight: \"))\n",
        "bmi = weight / (height*height)\n",
        "if bmi < 18:\n",
        "  print(\"You're looking too skinny CJ.\")\n",
        "elif bmi < 35:\n",
        "  print(\"You should lose some weight, big guy!\")\n",
        "else:\n",
        "  print(\"Just a regular good guy, same as always.\")"
      ],
      "execution_count": null,
      "outputs": [
        {
          "output_type": "stream",
          "text": [
            "Plz gimme your height: 1.8\n",
            "Plz gimme your weight: 180\n",
            "Just a regular good guy, same as always.\n"
          ],
          "name": "stdout"
        }
      ]
    },
    {
      "cell_type": "code",
      "metadata": {
        "colab": {
          "base_uri": "https://localhost:8080/"
        },
        "id": "5FaO0-KS5IS9",
        "outputId": "6090be24-2609-45a8-d717-0c52851fe750"
      },
      "source": [
        "secret_number = 83\n",
        "n = input(\"Guess a number between 1 and 100: \")\n",
        "n = int(n)\n",
        "\n",
        "if n == secret_number:\n",
        "  print(\"My secret safe with you\")\n",
        "else:\n",
        "  if n > secret_number:\n",
        "    print(\"Guess it lower, man\")\n",
        "  if n < secret_number:\n",
        "    print(\"Guess it higher, try that again\")"
      ],
      "execution_count": null,
      "outputs": [
        {
          "output_type": "stream",
          "text": [
            "Guess a number between 1 and 100: 88\n",
            "Guess it lower, man\n"
          ],
          "name": "stdout"
        }
      ]
    },
    {
      "cell_type": "code",
      "metadata": {
        "colab": {
          "base_uri": "https://localhost:8080/"
        },
        "id": "kTDEOZSN7JNP",
        "outputId": "5840475a-63f7-4b28-8201-ded8f0bdbba4"
      },
      "source": [
        "grade = float (input(\"Plz gimme one of your test's grade: \"))\n",
        "if grade >= 80:\n",
        "  print(\"Well goody. You carry on.\")\n",
        "elif grade <= 60:\n",
        "  print(\"C'mon, you can do better than that. I need better from you, Arthur.\")\n",
        "else:\n",
        "  print(\"Well, you can't win 'em all.\")"
      ],
      "execution_count": null,
      "outputs": [
        {
          "output_type": "stream",
          "text": [
            "Plz gimme one of your test's grade: 99\n",
            "Well goody. You carry on.\n"
          ],
          "name": "stdout"
        }
      ]
    },
    {
      "cell_type": "code",
      "metadata": {
        "colab": {
          "base_uri": "https://localhost:8080/"
        },
        "id": "dC4JOd2H8Z15",
        "outputId": "0aa6f37c-4b68-4c54-8ea9-2c92454b5efb"
      },
      "source": [
        "grade = input(\"Grade: \")\n",
        "grade = int(grade)\n",
        "if grade >= 80:\n",
        "  print(\"Impressive.\")\n",
        "else:\n",
        "  if grade <= 60:\n",
        "    print(\"Depressive.\")\n",
        "  else:\n",
        "    print(\"Evidently.\")"
      ],
      "execution_count": null,
      "outputs": [
        {
          "output_type": "stream",
          "text": [
            "Grade: 88\n",
            "Impressive.\n"
          ],
          "name": "stdout"
        }
      ]
    }
  ]
}