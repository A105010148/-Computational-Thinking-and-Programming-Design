{
  "nbformat": 4,
  "nbformat_minor": 0,
  "metadata": {
    "colab": {
      "name": "邱靖傑 week14 隨堂作業.ipynb",
      "provenance": [],
      "collapsed_sections": [],
      "authorship_tag": "ABX9TyNtNFl7festmcWChiYMqzZY",
      "include_colab_link": true
    },
    "kernelspec": {
      "name": "python3",
      "display_name": "Python 3"
    },
    "language_info": {
      "name": "python"
    }
  },
  "cells": [
    {
      "cell_type": "markdown",
      "metadata": {
        "id": "view-in-github",
        "colab_type": "text"
      },
      "source": [
        "<a href=\"https://colab.research.google.com/github/A105010148/-Computational-Thinking-and-Programming-Design/blob/main/%E9%82%B1%E9%9D%96%E5%82%91_week14_%E9%9A%A8%E5%A0%82%E4%BD%9C%E6%A5%AD.ipynb\" target=\"_parent\"><img src=\"https://colab.research.google.com/assets/colab-badge.svg\" alt=\"Open In Colab\"/></a>"
      ]
    },
    {
      "cell_type": "markdown",
      "metadata": {
        "id": "unwXrshryOtL"
      },
      "source": [
        "習題複習"
      ]
    },
    {
      "cell_type": "code",
      "metadata": {
        "colab": {
          "base_uri": "https://localhost:8080/"
        },
        "id": "aHnP-0kEswPM",
        "outputId": "e28dd1e2-aab1-4e6c-c322-6c05fe090aec"
      },
      "source": [
        "temp = float(input(\"請輸入你的耳溫： \"))\n",
        "if temp < 36.0:\n",
        "  print(\"體溫有點低唷\")\n",
        "elif temp < 39:\n",
        "  print(\"體溫有點燒喲\")\n",
        "elif temp < 38:\n",
        "  print(\"體溫正常\")\n",
        "else:\n",
        "  print(\"太燒了吧！\")"
      ],
      "execution_count": null,
      "outputs": [
        {
          "output_type": "stream",
          "text": [
            "請輸入你的耳溫： 22\n",
            "體溫有點低唷\n"
          ],
          "name": "stdout"
        }
      ]
    },
    {
      "cell_type": "code",
      "metadata": {
        "colab": {
          "base_uri": "https://localhost:8080/"
        },
        "id": "G1Je-CA5uWMc",
        "outputId": "c8d36982-0fb6-4955-ef61-f49871bde13d"
      },
      "source": [
        "tem = float (input(\"Your ears tempurture plz: \"))\n",
        "\n",
        "if tem < 36:\n",
        "  print(\"You're frozen\")\n",
        "elif tem < 38:\n",
        "  print(\"You're alright boah\")\n",
        "elif tem < 39:\n",
        "  print(\"A little hot, huh?\")\n",
        "else:\n",
        "  print(\"You're on fire!\")"
      ],
      "execution_count": null,
      "outputs": [
        {
          "output_type": "stream",
          "text": [
            "Your ears tempurture plz: 22\n",
            "You're frozen\n"
          ],
          "name": "stdout"
        }
      ]
    },
    {
      "cell_type": "code",
      "metadata": {
        "colab": {
          "base_uri": "https://localhost:8080/"
        },
        "id": "gujTwqAevhu0",
        "outputId": "7d845605-63d6-41f0-89cc-a1b4bd38c78a"
      },
      "source": [
        "year = int(input('請隨意給我一個年份： '))\n",
        "if ((year % 400) == 0):\n",
        "  print(year, \"是閏年\")\n",
        "elif ((year % 100) == 0):\n",
        "  print(year, \"不是閏年是潤餅\")\n",
        "elif ((year % 4) == 0):\n",
        "  print(year, \"是閏年\")\n",
        "else:\n",
        "  print(\"不是潤筆是潤餅\")"
      ],
      "execution_count": null,
      "outputs": [
        {
          "output_type": "stream",
          "text": [
            "請隨意給我一個年份： 1988\n",
            "1988 是閏年\n"
          ],
          "name": "stdout"
        }
      ]
    },
    {
      "cell_type": "code",
      "metadata": {
        "colab": {
          "base_uri": "https://localhost:8080/"
        },
        "id": "1mpyoq6Rxmim",
        "outputId": "a77b13f3-99db-4195-ec44-43d07905f3b0"
      },
      "source": [
        "length = int(input(\"請輸入乘車距離： \"))\n",
        "time = int(input(\"請輸入乘車時間： \"))\n",
        "if length >= 10:\n",
        "  feight = 6 + (10 - 3) * 1.8 (length - 10) * 1.8 * 1.5\n",
        "else:\n",
        "  if length >= 3:\n",
        "    feight = 6 + (length - 3) * 1.8\n",
        "feignt = feight + (time / 3) * 1\n",
        "print(\"計程車費是\" , feight)"
      ],
      "execution_count": null,
      "outputs": [
        {
          "output_type": "stream",
          "text": [
            "請輸入乘車距離： 8\n",
            "請輸入乘車時間： 2\n",
            "計程車費是 15.0\n"
          ],
          "name": "stdout"
        }
      ]
    },
    {
      "cell_type": "markdown",
      "metadata": {
        "id": "cmysf5KW4ZDA"
      },
      "source": [
        "課堂練習"
      ]
    },
    {
      "cell_type": "code",
      "metadata": {
        "colab": {
          "base_uri": "https://localhost:8080/"
        },
        "id": "4iRNXJV024v6",
        "outputId": "4c39148b-13a3-497b-fb80-811291faeecb"
      },
      "source": [
        "movie_title = input('請給我一部電影的名稱： ')\n",
        "movie_rating = float(input('請給我這部電影imdb的評分： '))\n",
        "\n",
        "if movie_rating > 7:\n",
        "  print(f\"{movie_title} 的評分為 {movie_rating} , 那值得去看\")\n",
        "elif movie_rating > 6:\n",
        "  print(f\"{movie_title} 好像一般般, 評分只有 {movie_rating} 在家裡看就好\" )\n",
        "else:\n",
        "  print(\"我們可以找別的更好看的電影！\")"
      ],
      "execution_count": null,
      "outputs": [
        {
          "output_type": "stream",
          "text": [
            "請給我一部電影的名稱： 滿城盡帶黃金甲\n",
            "請給我這部電影imdb的評分： 7.2\n",
            "滿城盡帶黃金甲 的評分為 7.2 , 那值得去看\n"
          ],
          "name": "stdout"
        }
      ]
    },
    {
      "cell_type": "code",
      "metadata": {
        "colab": {
          "base_uri": "https://localhost:8080/"
        },
        "id": "3edJVElK3_j6",
        "outputId": "f780ac01-5e20-40da-a706-e1f574f324f8"
      },
      "source": [
        "id = int(input(\"請給我你身份證字號的尾數： \"))\n",
        "if id % 2 == 0:\n",
        "  ans = \"你是偶數, 可以在星期二、四、六前往特定地點領取口罩\"\n",
        "elif id % 1 == 0:\n",
        "  ans = \"奇數, 請在星期一、三、五以及星期日來領口罩\"\n",
        "print(ans)"
      ],
      "execution_count": null,
      "outputs": [
        {
          "output_type": "stream",
          "text": [
            "請給我你身份證字號的尾數： 8\n",
            "你是偶數, 可以在星期二、四、六前往特定地點領取口罩\n"
          ],
          "name": "stdout"
        }
      ]
    },
    {
      "cell_type": "code",
      "metadata": {
        "colab": {
          "base_uri": "https://localhost:8080/"
        },
        "id": "d672FAGI7mMn",
        "outputId": "d3014c64-8ec0-4026-f409-2f647edc9934"
      },
      "source": [
        "id = input(\"請給我你的完整身份證字號： \")\n",
        "id_number = id[9]\n",
        "id_number = int(id_number)\n",
        "if id_number % 2 == 0:\n",
        "  ans = \"偶數, 請在週二、四及週六領口罩\"\n",
        "elif id_number % 1 == 0:\n",
        "  ans = \"奇數者可以於週一、三、五及週日領取\"\n",
        "print(ans)"
      ],
      "execution_count": null,
      "outputs": [
        {
          "output_type": "stream",
          "text": [
            "請給我你的完整身份證字號： T121219832\n",
            "偶數, 請在週二、四及週六領口罩\n"
          ],
          "name": "stdout"
        }
      ]
    },
    {
      "cell_type": "code",
      "metadata": {
        "colab": {
          "base_uri": "https://localhost:8080/"
        },
        "id": "Ps7H1D9j8smU",
        "outputId": "e3819b4c-bccf-4380-eddd-e46cfd398121"
      },
      "source": [
        "id = input(\"請輸入你完整的身份證字號： \")\n",
        "id_gender = id[1]\n",
        "if id_gender == 1:\n",
        "  gender = \"男生\"\n",
        "else:\n",
        "  gender = \"女生\"\n",
        "print(gender)"
      ],
      "execution_count": null,
      "outputs": [
        {
          "output_type": "stream",
          "text": [
            "請輸入你完整的身份證字號： T13145621\n",
            "女生\n"
          ],
          "name": "stdout"
        }
      ]
    },
    {
      "cell_type": "code",
      "metadata": {
        "colab": {
          "base_uri": "https://localhost:8080/"
        },
        "id": "BUDBJGm491pB",
        "outputId": "7fb79fc2-02ed-4f11-bac9-28ead70c5d42"
      },
      "source": [
        "my = int(input(\"剪刀[0]石頭[1]布[2]: \"))\n",
        "print(\"我出的是\", my)\n",
        "\n",
        "import random\n",
        "computer = random.randint(0, 2)\n",
        "print(\"電腦出的是\", computer)\n",
        "\n",
        "if my == 0:\n",
        "  if computer == 0:\n",
        "    result = 'Draw'\n",
        "  elif computer == 1:\n",
        "    result = 'Youve won'\n",
        "  else:\n",
        "    result = 'Ive won'\n",
        "  print(result)\n",
        "if my == 1:\n",
        "  if computer == 0:\n",
        "    result = 'Ive won'\n",
        "  elif computer == 1:\n",
        "    result = 'Draw'\n",
        "  else:\n",
        "    result = 'Youve won'\n",
        "  print(result)\n",
        "if my == 2:\n",
        "  if computer == 0:\n",
        "    result = 'Youve won'\n",
        "  elif computer == 1:\n",
        "    result = 'Ive won'\n",
        "  else:\n",
        "    result = 'draw'\n",
        "  print(result)"
      ],
      "execution_count": null,
      "outputs": [
        {
          "output_type": "stream",
          "text": [
            "剪刀[0]石頭[1]布[2]: 2\n",
            "我出的是 2\n",
            "電腦出的是 0\n",
            "Youve won\n"
          ],
          "name": "stdout"
        }
      ]
    }
  ]
}