{
  "nbformat": 4,
  "nbformat_minor": 0,
  "metadata": {
    "colab": {
      "name": "邱靖傑  Week8 隨堂作業.ipynb",
      "provenance": [],
      "authorship_tag": "ABX9TyNE/q9s5T5dw/jh+DJSOvdK",
      "include_colab_link": true
    },
    "kernelspec": {
      "name": "python3",
      "display_name": "Python 3"
    },
    "language_info": {
      "name": "python"
    }
  },
  "cells": [
    {
      "cell_type": "markdown",
      "metadata": {
        "id": "view-in-github",
        "colab_type": "text"
      },
      "source": [
        "<a href=\"https://colab.research.google.com/github/A105010148/-Computational-Thinking-and-Programming-Design/blob/main/%E9%82%B1%E9%9D%96%E5%82%91_Week8_%E9%9A%A8%E5%A0%82%E4%BD%9C%E6%A5%AD.ipynb\" target=\"_parent\"><img src=\"https://colab.research.google.com/assets/colab-badge.svg\" alt=\"Open In Colab\"/></a>"
      ]
    },
    {
      "cell_type": "markdown",
      "metadata": {
        "id": "bwRcLRbppW7Q"
      },
      "source": [
        "整理圖書\n"
      ]
    },
    {
      "cell_type": "code",
      "metadata": {
        "colab": {
          "base_uri": "https://localhost:8080/"
        },
        "id": "x5Oq5zHppUBi",
        "outputId": "aa14143b-8a91-4c98-94b3-36196facd9bc"
      },
      "source": [
        "## INPUT\n",
        "a = 13\n",
        "b = 11\n",
        "## PROCESS\n",
        "t = a\n",
        "a = b\n",
        "b = t\n",
        "## OUTPUT\n",
        "print(\"a= \", a,\"b= \", b)"
      ],
      "execution_count": 1,
      "outputs": [
        {
          "output_type": "stream",
          "text": [
            "a=  11 b=  13\n"
          ],
          "name": "stdout"
        }
      ]
    },
    {
      "cell_type": "markdown",
      "metadata": {
        "id": "vFDPU-yuph1A"
      },
      "source": [
        "分糖果遊戲"
      ]
    },
    {
      "cell_type": "code",
      "metadata": {
        "colab": {
          "base_uri": "https://localhost:8080/"
        },
        "id": "6Zkyq8xjpdKZ",
        "outputId": "643f3305-56a5-4124-f528-97fd1fd6d622"
      },
      "source": [
        "## INPUT\n",
        "a, b, c, d, e, f = eval(input(\"Enter a number\"))\n",
        "\n",
        "## PROCESS & OUTPUT\n",
        "a= a//3; b= b + a;f= f + a\n",
        "print(f\"a = {a}; b= {b}, c= {c}, d= {d}, e= {e}, f= {f}\")\n",
        "b= b//3; a= a + b; c= c + b\n",
        "print(f\"a = {a}; b= {b}, c= {c}, d= {d}, e= {e}, f= {f}\")\n",
        "c= c//3; b= b + c; c= c + b\n",
        "print(f\"a = {a}; b= {b}, c= {c}, d= {d}, e= {e}, f= {f}\")\n",
        "d= d//3; c= c + d; c= c + b\n",
        "print(f\"a = {a}; b= {b}, c= {c}, d= {d}, e= {e}, f= {f}\")\n",
        "e= e//3; d= d + e; c= c + b\n",
        "print(f\"a = {a}; b= {b}, c= {c}, d= {d}, e= {e}, f= {f}\")\n",
        "f= f//3; e= e + f; c= c + b\n",
        "print(f\"a = {a}; b= {b}, c= {c}, d= {d}, e= {e}, f= {f}\")"
      ],
      "execution_count": 2,
      "outputs": [
        {
          "output_type": "stream",
          "text": [
            "Enter a number1, 2, 3, 4, 5, 6\n",
            "a = 0; b= 2, c= 3, d= 4, e= 5, f= 6\n",
            "a = 0; b= 0, c= 3, d= 4, e= 5, f= 6\n",
            "a = 0; b= 1, c= 2, d= 4, e= 5, f= 6\n",
            "a = 0; b= 1, c= 4, d= 1, e= 5, f= 6\n",
            "a = 0; b= 1, c= 5, d= 2, e= 1, f= 6\n",
            "a = 0; b= 1, c= 6, d= 2, e= 3, f= 2\n"
          ],
          "name": "stdout"
        }
      ]
    },
    {
      "cell_type": "markdown",
      "metadata": {
        "id": "Z4SFAPJWppCo"
      },
      "source": [
        "訂購衣服"
      ]
    },
    {
      "cell_type": "code",
      "metadata": {
        "colab": {
          "base_uri": "https://localhost:8080/"
        },
        "id": "DDWi3KorplDA",
        "outputId": "a95e5933-1475-45a3-eccc-51d062925db3"
      },
      "source": [
        "...: cloth = int(input('請輸入上衣數量？'))\n",
        "...: trousers = int(input('請輸入褲子數量？'))\n",
        "...: vest = int(input('請輸入背心數量？'))\n",
        "...: ## Process\n",
        "...: total = cloth*300 + trousers*350 + vest*400\n",
        "...: ## Output\n",
        "...: print('訂購服裝的總金額為', total)"
      ],
      "execution_count": 3,
      "outputs": [
        {
          "output_type": "stream",
          "text": [
            "請輸入上衣數量？300\n",
            "請輸入褲子數量？350\n",
            "請輸入背心數量？400\n",
            "訂購服裝的總金額為 372500\n"
          ],
          "name": "stdout"
        }
      ]
    },
    {
      "cell_type": "markdown",
      "metadata": {
        "id": "whx6gvnSpudw"
      },
      "source": [
        "購買飲料"
      ]
    },
    {
      "cell_type": "code",
      "metadata": {
        "colab": {
          "base_uri": "https://localhost:8080/"
        },
        "id": "aH36oqROprCg",
        "outputId": "60f7708e-883c-41b4-c001-e4aa9ecfdfc5"
      },
      "source": [
        "...: ## Input Data\n",
        "...: cans = int(input('請輸入購買飲料的罐數？'))\n",
        "...: ## Process\n",
        "...: total = (cans//12)*200 + (cans%12)*20\n",
        "...: ## Output\n",
        "...: print('需花費', total)"
      ],
      "execution_count": 6,
      "outputs": [
        {
          "output_type": "stream",
          "text": [
            "請輸入購買飲料的罐數？30\n",
            "需花費 520\n"
          ],
          "name": "stdout"
        }
      ]
    },
    {
      "cell_type": "markdown",
      "metadata": {
        "id": "GbirXrfYpzZw"
      },
      "source": [
        "成績平均"
      ]
    },
    {
      "cell_type": "code",
      "metadata": {
        "colab": {
          "base_uri": "https://localhost:8080/"
        },
        "id": "BG2jIdixpwRw",
        "outputId": "fd09d485-f9f6-455c-d032-139a1cabcc71"
      },
      "source": [
        "## 求三數總和與平均\n",
        "## INPUT\n",
        "x, y, z = eval(input(\"Enter your score\"))\n",
        "\n",
        "## PROCESS8\n",
        "Sum = x + y + z\n",
        "Average = Sum /3\n",
        "\n",
        "## OUTPUT\n",
        "print(f\"score sum is{sum} and average score is {Average}\")"
      ],
      "execution_count": 8,
      "outputs": [
        {
          "output_type": "stream",
          "text": [
            "Enter your score75, 80, 65\n",
            "score sum is<built-in function sum> and average score is 73.33333333333333\n"
          ],
          "name": "stdout"
        }
      ]
    },
    {
      "cell_type": "markdown",
      "metadata": {
        "id": "7z6AhEFnp8VB"
      },
      "source": [
        "俠客歐尼爾BMI"
      ]
    },
    {
      "cell_type": "code",
      "metadata": {
        "colab": {
          "base_uri": "https://localhost:8080/",
          "height": 171
        },
        "id": "_VVdIg7vCN19",
        "outputId": "a28b3a16-153c-49bd-abff-bb9a766d5b51"
      },
      "source": [
        "In[1]: player_name = input(\"請輸入球員姓名： \")\n",
        "...:player_height = input(\"請輸入球員身高： \")\n",
        "...:player_weight = input(\"請輸入球員體重： \")\n",
        "...:\n",
        "...:player_height = float (player_height)\n",
        "...:player_weight = float (player_weight)\n",
        "...:player_bmi = player_weight/(player_height /100)**2\n",
        "...:\n",
        "...:print(\"{}的身體質量為 : {:.2f}\" , format(player_name, player_bmi)\n",
        "...:print(player_name '的身體質量為' , player_bmi)"
      ],
      "execution_count": null,
      "outputs": [
        {
          "output_type": "error",
          "ename": "SyntaxError",
          "evalue": "ignored",
          "traceback": [
            "\u001b[0;36m  File \u001b[0;32m\"<ipython-input-15-5448b42e9c58>\"\u001b[0;36m, line \u001b[0;32m10\u001b[0m\n\u001b[0;31m    print(player_name '的身體質量為' , player_bmi)\u001b[0m\n\u001b[0m        ^\u001b[0m\n\u001b[0;31mSyntaxError\u001b[0m\u001b[0;31m:\u001b[0m invalid syntax\n"
          ]
        }
      ]
    },
    {
      "cell_type": "code",
      "metadata": {
        "colab": {
          "base_uri": "https://localhost:8080/"
        },
        "id": "4yyHPU5LHLd1",
        "outputId": "e1e8ddf0-22aa-4d24-c5a3-51bc9e522c22"
      },
      "source": [
        "name = input(\"請輸入球員姓名：\")\n",
        "height = input(\"請輸入球員身高：\")\n",
        "weight = input(\"請輸入球員體重：\")\n",
        "height = float (height)\n",
        "weight = float (weight)\n",
        "bmi = weight/(height/100)**2 #將身高轉換為以公尺為單位\n",
        "print(name, \"的身體質量為\", bmi)"
      ],
      "execution_count": null,
      "outputs": [
        {
          "output_type": "stream",
          "text": [
            "請輸入球員姓名：Shaqille O'neal\n",
            "請輸入球員身高：225\n",
            "請輸入球員體重：140\n",
            "Shaqille O'neal 的身體質量為 27.65432098765432\n"
          ],
          "name": "stdout"
        }
      ]
    },
    {
      "cell_type": "code",
      "metadata": {
        "colab": {
          "base_uri": "https://localhost:8080/"
        },
        "id": "VDxPTZOArGgo",
        "outputId": "3dba1663-54f5-4b04-8da4-70a3d9ec911b"
      },
      "source": [
        "...: movie_title = \"money ball\" # 電影名稱\n",
        "...: release_year = \"2011\" # 放映日期\n",
        "...: movie_time_min = 133 # 片長\n",
        "...: movie_rating = 7.6 #評分\n",
        "...:\n",
        "...: director = \"Bennett Miller\" # 導演\n",
        "...: stars_1 = \"Brad Pitt\" #主要演員\n",
        "...: stars_2 = \"Robin Wright\"\n",
        "...: stars_3 = \"Jonah Hill\"\n",
        "...:\n",
        "...: like = 1 # 你喜不喜歡\n",
        "...:\n",
        "...: ## 3. 印出魔球電影的相關資訊\n",
        "...: print(movie_title) # 螢幕列印\n",
        "...: print(release_year)\n",
        "...: print(movie_time_min)"
      ],
      "execution_count": 9,
      "outputs": [
        {
          "output_type": "stream",
          "text": [
            "money ball\n",
            "2011\n",
            "133\n"
          ],
          "name": "stdout"
        }
      ]
    },
    {
      "cell_type": "code",
      "metadata": {
        "colab": {
          "base_uri": "https://localhost:8080/"
        },
        "id": "oGREbCxorHHH",
        "outputId": "5227a8fe-a9b7-4e67-da84-737eb64cd9a5"
      },
      "source": [
        "In [6]: # 1. 建立變數，輸入資料並儲存\n",
        "...: time = 123\n",
        "...:\n",
        "...: # 2. 方法（二）運算子\n",
        "...: hours2 = time // 60\n",
        "...: minutes2 = time % 60\n",
        "...:\n",
        "...: # 3. 顯示結果\n",
        "...: print(time, \"is equal to\", hours2, \"Hours and\", minutes2,\n",
        "\"Minutes\")"
      ],
      "execution_count": 10,
      "outputs": [
        {
          "output_type": "stream",
          "text": [
            "123 is equal to 2 Hours and 3 Minutes\n"
          ],
          "name": "stdout"
        }
      ]
    }
  ]
}