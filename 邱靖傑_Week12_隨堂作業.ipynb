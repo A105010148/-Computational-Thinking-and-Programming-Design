{
  "nbformat": 4,
  "nbformat_minor": 0,
  "metadata": {
    "colab": {
      "name": "邱靖傑 - Week12 - 隨堂作業.ipynb",
      "provenance": [],
      "authorship_tag": "ABX9TyNvzmj7zluKOadP8RKEnjQM",
      "include_colab_link": true
    },
    "kernelspec": {
      "name": "python3",
      "display_name": "Python 3"
    },
    "language_info": {
      "name": "python"
    }
  },
  "cells": [
    {
      "cell_type": "markdown",
      "metadata": {
        "id": "view-in-github",
        "colab_type": "text"
      },
      "source": [
        "<a href=\"https://colab.research.google.com/github/A105010148/-Computational-Thinking-and-Programming-Design/blob/main/%E9%82%B1%E9%9D%96%E5%82%91_Week12_%E9%9A%A8%E5%A0%82%E4%BD%9C%E6%A5%AD.ipynb\" target=\"_parent\"><img src=\"https://colab.research.google.com/assets/colab-badge.svg\" alt=\"Open In Colab\"/></a>"
      ]
    },
    {
      "cell_type": "markdown",
      "metadata": {
        "id": "-GazhSgzqrgY"
      },
      "source": [
        "如果下雨了："
      ]
    },
    {
      "cell_type": "code",
      "metadata": {
        "colab": {
          "base_uri": "https://localhost:8080/"
        },
        "id": "fO4kFwt-kf4k",
        "outputId": "8f452778-0384-4e9a-cd30-c95f9cbbc3f1"
      },
      "source": [
        "raining = True\n",
        "if raining:\n",
        "  print(\"外面濕濕的\")\n",
        "  print(\"撐雨傘\")\n",
        "  print(\"穿雨鞋\")"
      ],
      "execution_count": 2,
      "outputs": [
        {
          "output_type": "stream",
          "text": [
            "外面濕濕的\n",
            "撐雨傘\n",
            "穿雨鞋\n"
          ],
          "name": "stdout"
        }
      ]
    },
    {
      "cell_type": "code",
      "metadata": {
        "id": "8MabUqHxnRr3"
      },
      "source": [
        "raining = False\n",
        "if raining:\n",
        "  print(\"外面濕濕的\")\n",
        "  print(\"撐雨傘\")\n",
        "  print(\"穿雨鞋\")"
      ],
      "execution_count": 3,
      "outputs": []
    },
    {
      "cell_type": "markdown",
      "metadata": {
        "id": "mPopvPEZqxCv"
      },
      "source": [
        "比較數字："
      ]
    },
    {
      "cell_type": "code",
      "metadata": {
        "colab": {
          "base_uri": "https://localhost:8080/"
        },
        "id": "2vdp90ekngVv",
        "outputId": "9d274b22-92bf-4300-e8ae-a36e439f57ba"
      },
      "source": [
        "num = int(input(\"請輸入一個數字: \"))\n",
        "if num > 0:\n",
        "  print(\"數字為正數\")\n",
        "  print(\"比較完畢\")"
      ],
      "execution_count": 7,
      "outputs": [
        {
          "output_type": "stream",
          "text": [
            "請輸入一個數字: -3\n"
          ],
          "name": "stdout"
        }
      ]
    },
    {
      "cell_type": "code",
      "metadata": {
        "colab": {
          "base_uri": "https://localhost:8080/"
        },
        "id": "zqoVwJDQnq0m",
        "outputId": "0092402e-0163-48ca-d875-1e997477ed51"
      },
      "source": [
        "num = int(input(\"請輸入一個數字: \"))\n",
        "\n",
        "if num > 0:\n",
        "  print(\"數字為正數\")\n",
        "\n",
        "if num < 0:\n",
        "  print(\"數字為負數\")\n",
        "\n",
        "if num == 0:\n",
        "  print(\"數字為零\")"
      ],
      "execution_count": 8,
      "outputs": [
        {
          "output_type": "stream",
          "text": [
            "請輸入一個數字: 2\n",
            "數字為正數\n"
          ],
          "name": "stdout"
        }
      ]
    },
    {
      "cell_type": "code",
      "metadata": {
        "colab": {
          "base_uri": "https://localhost:8080/"
        },
        "id": "tX-UH1tvobz3",
        "outputId": "2fdbb8ea-3fe7-469c-8ac6-488f9b4a9c28"
      },
      "source": [
        "num_a = int(input(\"請輸入第一個數字: \"))\n",
        "num_b = int(input(\"請輸入第二個數字: \"))\n",
        "\n",
        "if num_a < 0:\n",
        "  prunt(\"第一個是負數\")\n",
        "\n",
        "if num_b < 0:\n",
        "  print(\"第二個是負數\")\n",
        "\n",
        "print(\"比較完成\")"
      ],
      "execution_count": 9,
      "outputs": [
        {
          "output_type": "stream",
          "text": [
            "請輸入第一個數字: 2\n",
            "請輸入第二個數字: -3\n",
            "第二個是負數\n",
            "比較完成\n"
          ],
          "name": "stdout"
        }
      ]
    },
    {
      "cell_type": "markdown",
      "metadata": {
        "id": "wev6v6eBq0_n"
      },
      "source": [
        "今晚吃義大利麵嗎？"
      ]
    },
    {
      "cell_type": "code",
      "metadata": {
        "colab": {
          "base_uri": "https://localhost:8080/"
        },
        "id": "TY13OjiwpGMW",
        "outputId": "de282e89-43dc-4dd1-f7ff-652cd6585638"
      },
      "source": [
        "noodle = input(\"有麵嗎? YES OR NO: \")\n",
        "sauce = input(\"有醬料嗎? YES OR NO: \")\n",
        "\n",
        "if noodle == \"YES\" and sauce == \"YES\":\n",
        "  print(\"今晚吃義大利麵\") "
      ],
      "execution_count": 11,
      "outputs": [
        {
          "output_type": "stream",
          "text": [
            "有麵嗎? YES OR NO: YES\n",
            "有醬料嗎? YES OR NO: YES\n",
            "今晚吃義大利麵\n"
          ],
          "name": "stdout"
        }
      ]
    },
    {
      "cell_type": "code",
      "metadata": {
        "colab": {
          "base_uri": "https://localhost:8080/"
        },
        "id": "o1UrHH6Rpem_",
        "outputId": "e0ae8517-228a-476a-8d64-dc41a2ac2814"
      },
      "source": [
        "noodle = input(\"有麵嗎? YES OR NO: \")\n",
        "sauce = input(\"有醬料嗎? YES OR NO: \")\n",
        "\n",
        "if noodle == \"YES\":\n",
        "  if sauce == \"YES\":\n",
        "    print(\"今晚吃義大利麵\")"
      ],
      "execution_count": 15,
      "outputs": [
        {
          "output_type": "stream",
          "text": [
            "有麵嗎? YES OR NO: YES\n",
            "有醬料嗎? YES OR NO: YES\n",
            "今晚吃義大利麵\n"
          ],
          "name": "stdout"
        }
      ]
    },
    {
      "cell_type": "markdown",
      "metadata": {
        "id": "GxLwt_B7zFjs"
      },
      "source": [
        "What day is today?"
      ]
    },
    {
      "cell_type": "code",
      "metadata": {
        "colab": {
          "base_uri": "https://localhost:8080/"
        },
        "id": "xamZX-MgqIaY",
        "outputId": "6fdf60a0-3814-4cf5-cf72-559a14743281"
      },
      "source": [
        "day = input(\"今天星期幾: \")\n",
        "if day == \"星期六\" or day == \"星期天\":\n",
        "  alarm = \"OFF\"\n",
        "  print(\"周末可以睡到自然醒了\")\n",
        "else:\n",
        "  alarm = \"ON\"\n",
        "  print(\"乖乖起床去上課吧\")"
      ],
      "execution_count": 17,
      "outputs": [
        {
          "output_type": "stream",
          "text": [
            "今天星期幾: 星期四\n",
            "乖乖起床去上課吧\n"
          ],
          "name": "stdout"
        }
      ]
    },
    {
      "cell_type": "markdown",
      "metadata": {
        "id": "MCcjb0SPzLUr"
      },
      "source": [
        "Pass or not?"
      ]
    },
    {
      "cell_type": "code",
      "metadata": {
        "colab": {
          "base_uri": "https://localhost:8080/"
        },
        "id": "Qyl9MV_Uxuhy",
        "outputId": "b235fd0c-d7e3-4f8f-c22f-ec91b8180814"
      },
      "source": [
        "score = int(input(\"輸入這堂課的期末成績: \"))\n",
        "if score >= 60 :\n",
        "  print(\"恭喜你通過了\")\n",
        "else:\n",
        "  print(\"又浪費掉一年了\")"
      ],
      "execution_count": 18,
      "outputs": [
        {
          "output_type": "stream",
          "text": [
            "輸入這堂課的期末成績: 88\n",
            "恭喜你通過了\n"
          ],
          "name": "stdout"
        }
      ]
    },
    {
      "cell_type": "markdown",
      "metadata": {
        "id": "mFCFQ3P71kdd"
      },
      "source": [
        "滿兩千打九折"
      ]
    },
    {
      "cell_type": "code",
      "metadata": {
        "colab": {
          "base_uri": "https://localhost:8080/"
        },
        "id": "K8bUcx7kyU-4",
        "outputId": "390e73b1-bd30-4528-ca79-428a8ecdd6a8"
      },
      "source": [
        "##世新大學店推出滿兩千打九折的優惠...\n",
        "\n",
        "cost = int(input('請輸入購買金額: '))\n",
        "if cost > 2000:\n",
        "  print(cost * 0.9)\n",
        "else:\n",
        "  print(cost)"
      ],
      "execution_count": 19,
      "outputs": [
        {
          "output_type": "stream",
          "text": [
            "請輸入購買金額: 5500\n",
            "4950.0\n"
          ],
          "name": "stdout"
        }
      ]
    },
    {
      "cell_type": "markdown",
      "metadata": {
        "id": "GZhA6XO61nYU"
      },
      "source": [
        "構成三角形"
      ]
    },
    {
      "cell_type": "code",
      "metadata": {
        "colab": {
          "base_uri": "https://localhost:8080/"
        },
        "id": "uePemGRq0ydo",
        "outputId": "3e3ec20c-9f63-44fe-bc30-9ef6f452cd34"
      },
      "source": [
        "a = int(input('請問三角形a邊的長度為何: '))\n",
        "b = int(input('請問三角形b邊的長度為何: '))\n",
        "c = int(input('請問三角形c邊的長度為何: '))\n",
        "\n",
        "if (a < b+c) and (b < a+c) and (c < a+b):\n",
        "  print('可構成三角形')\n",
        "else:\n",
        "  print('三角形不成立')"
      ],
      "execution_count": 20,
      "outputs": [
        {
          "output_type": "stream",
          "text": [
            "請問三角形a邊的長度為何: 8\n",
            "請問三角形b邊的長度為何: 8\n",
            "請問三角形c邊的長度為何: 8\n",
            "可構成三角形\n"
          ],
          "name": "stdout"
        }
      ]
    }
  ]
}